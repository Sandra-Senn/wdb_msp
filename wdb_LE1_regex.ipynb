{
 "cells": [
  {
   "cell_type": "markdown",
   "id": "03323b95",
   "metadata": {},
   "source": [
    "# wdb - Prüfungsvorbereitung\n",
    "\n",
    "## LE1 - RegEx\n",
    "\n",
    "Regex, kurz für reguläre Ausdrücke, ist eine Sprache, mit der man Muster in Texten beschreiben und gezielt suchen kann. Sie ermöglicht es, nach bestimmten Zeichen, Wörtern oder Zahlenfolgen zu suchen, indem man verschiedene Optionen wie Wiederholungen, Gruppen oder Alternativen definiert. Dadurch lassen sich Texte effizient durchsuchen, überprüfen oder verändern. Reguläre Ausdrücke sind in vielen Programmen und Programmiersprachen ein wichtiges Werkzeug, etwa bei der Validierung von Eingaben oder beim Ersetzen von Textstellen. Trotz ihrer grossen Flexibilität und Leistungsfähigkeit können komplexe Regex-Ausdrücke allerdings schnell unübersichtlich und schwer lesbar werden.\n",
    "\n",
    "\n",
    "\n",
    "\n",
    "\n",
    "\n",
    "### Übungsaufgaben von Dozenten\n",
    "\n",
    "Exercise: Extract the first and last name from an email address using groups, \n",
    "\n",
    "assuming the email address has the format firstname.lastname@domain.com."
   ]
  },
  {
   "cell_type": "code",
   "execution_count": 7,
   "id": "936c3f4d",
   "metadata": {},
   "outputs": [],
   "source": [
    "import re"
   ]
  },
  {
   "cell_type": "code",
   "execution_count": 8,
   "id": "622c8655",
   "metadata": {},
   "outputs": [],
   "source": [
    "mail_adress = 'firstname.lastname@domain.com'\n"
   ]
  },
  {
   "cell_type": "code",
   "execution_count": 9,
   "id": "4867a772",
   "metadata": {},
   "outputs": [
    {
     "data": {
      "text/plain": [
       "(['firstname.lastname'], ['firstname.lastname', 'hp.ht', 'luk.lak'])"
      ]
     },
     "execution_count": 9,
     "metadata": {},
     "output_type": "execute_result"
    }
   ],
   "source": [
    "mail_adress = 'firstname.lastname@domain.com'\n",
    "mail_adresses_l = ['firstname.lastname@domain.com', 'hp.ht@domain.com', 'luk.lak@domain.com']\n",
    "\n",
    "\n",
    "\n",
    "result = re.findall(r'^[\\w.]+', mail_adress)\n",
    "\n",
    "\n",
    "\n",
    "\n",
    "usernames = []\n",
    "for email in mail_adresses_l:\n",
    "    match = re.search(r'^([\\w.]+)', email)\n",
    "    if match:\n",
    "        usernames.append(match.group(1))\n",
    "\n",
    "# print(usernames)\n",
    "\n",
    "\n",
    "\n",
    "result, usernames\n"
   ]
  },
  {
   "cell_type": "markdown",
   "id": "74995578",
   "metadata": {},
   "source": [
    "### selber erstelle Aufgaben"
   ]
  },
  {
   "cell_type": "markdown",
   "id": "bdc770c4",
   "metadata": {},
   "source": [
    "***Exercise 1:***\n",
    "\n",
    "Extract the username and domain separately from an email address using groups, assuming the email address has the format username@domain.com.\n",
    "\n",
    "(Example: For user123@example.com, extract user123 and example.com as separate groups.)\n",
    "\n"
   ]
  },
  {
   "cell_type": "code",
   "execution_count": 10,
   "id": "fb06814b",
   "metadata": {},
   "outputs": [],
   "source": [
    "email = 'username.user@domain.com'\n"
   ]
  },
  {
   "cell_type": "code",
   "execution_count": 11,
   "id": "d2dfcb7d",
   "metadata": {},
   "outputs": [
    {
     "name": "stdout",
     "output_type": "stream",
     "text": [
      "Username: username.user\n",
      "Domain: domain.com\n"
     ]
    }
   ],
   "source": [
    "email = 'username.user@domain.com'\n",
    "\n",
    "username = re.findall(r'^[\\w\\.-]+', email)\n",
    "domain = re.findall(r'[\\w]+.com$', email)\n",
    "\n",
    "\n",
    "username, domain\n",
    "\n",
    "\n",
    "\n",
    "match = re.search(r'^([\\w\\.-]+)@([\\w\\.-]+)$', email)\n",
    "if match:\n",
    "    username, domain = match.groups()\n",
    "    print(\"Username:\", username)\n",
    "    print(\"Domain:\", domain)"
   ]
  },
  {
   "cell_type": "markdown",
   "id": "d7483ae3",
   "metadata": {},
   "source": [
    "***Exercise 2:***\n",
    "\n",
    "Extract all digits from a string that contains a mix of letters, digits, and special characters."
   ]
  },
  {
   "cell_type": "code",
   "execution_count": 12,
   "id": "c60b7eb9",
   "metadata": {},
   "outputs": [],
   "source": [
    "text = \"abc123!@#456xyz\"\n"
   ]
  },
  {
   "cell_type": "code",
   "execution_count": 13,
   "id": "51afe2a8",
   "metadata": {},
   "outputs": [
    {
     "data": {
      "text/plain": [
       "['123', '456']"
      ]
     },
     "execution_count": 13,
     "metadata": {},
     "output_type": "execute_result"
    }
   ],
   "source": [
    "text = \"abc123!@#456xyz\"\n",
    "\n",
    "\n",
    "digits = re.findall(r'\\d+', text)\n",
    "digits"
   ]
  },
  {
   "cell_type": "markdown",
   "id": "61c351f9",
   "metadata": {},
   "source": [
    "\n",
    "***Exercise 3:***\n",
    "\n",
    "Check if a string is a valid German postal code (exactly 5 digits).\n",
    "\n"
   ]
  },
  {
   "cell_type": "code",
   "execution_count": 14,
   "id": "d4f0dffe",
   "metadata": {},
   "outputs": [],
   "source": [
    "postcode = \"12345\"\n"
   ]
  },
  {
   "cell_type": "code",
   "execution_count": 15,
   "id": "234b655d",
   "metadata": {},
   "outputs": [
    {
     "name": "stdout",
     "output_type": "stream",
     "text": [
      "Postcode 12345 is matching the german guidelines.\n"
     ]
    }
   ],
   "source": [
    "postcode = \"12345\"\n",
    "\n",
    "\n",
    "checker = bool(re.findall(r'^\\d{5}$', postcode))\n",
    "if checker == 1:\n",
    "    print(f'Postcode {postcode} is matching the german guidelines.')\n",
    "else:\n",
    "    print('Postcode doesn`t match the guidelines')"
   ]
  },
  {
   "cell_type": "markdown",
   "id": "7a02959a",
   "metadata": {},
   "source": [
    "\n",
    "***Exercise 4:***\n",
    "\n",
    "Extract all valid phone numbers from a text. Assume a phone number starts with a '+' followed by 9 to 15 digits.\n",
    "\n"
   ]
  },
  {
   "cell_type": "code",
   "execution_count": 16,
   "id": "637bbb9b",
   "metadata": {},
   "outputs": [],
   "source": [
    "text = \"Call +491234567890 or +441234567890123\"\n"
   ]
  },
  {
   "cell_type": "code",
   "execution_count": 17,
   "id": "38ab11ff",
   "metadata": {},
   "outputs": [
    {
     "data": {
      "text/plain": [
       "['+491234567890', '+441234567890123']"
      ]
     },
     "execution_count": 17,
     "metadata": {},
     "output_type": "execute_result"
    }
   ],
   "source": [
    "text = \"Call +491234567890 or +441234567890123\"\n",
    "\n",
    "\n",
    "phone_nr = re.findall(r'\\+\\d+', text)\n",
    "phone_nr"
   ]
  },
  {
   "cell_type": "markdown",
   "id": "2f4d2c2f",
   "metadata": {},
   "source": [
    "***Exercise 5:***\n",
    "\n",
    "Extract the domain part (after the '@') from an email address."
   ]
  },
  {
   "cell_type": "code",
   "execution_count": 18,
   "id": "69a72eff",
   "metadata": {},
   "outputs": [],
   "source": [
    "email = 'username.user@domain.com'\n"
   ]
  },
  {
   "cell_type": "code",
   "execution_count": 19,
   "id": "4212c4b4",
   "metadata": {},
   "outputs": [
    {
     "data": {
      "text/plain": [
       "['domain.com']"
      ]
     },
     "execution_count": 19,
     "metadata": {},
     "output_type": "execute_result"
    }
   ],
   "source": [
    "# mail\n",
    "\n",
    "domain = re.findall(r'@(\\S+)', email)\n",
    "domain"
   ]
  },
  {
   "cell_type": "markdown",
   "id": "085310ce",
   "metadata": {},
   "source": [
    "\n",
    "***Exercise 6:***\n",
    "\n",
    "Find all occurrences of dates in the format DD.MM.YYYY in a text.\n"
   ]
  },
  {
   "cell_type": "code",
   "execution_count": 20,
   "id": "4f842b3f",
   "metadata": {},
   "outputs": [],
   "source": [
    "text = \"Start 01.01.2023, end 31.12.2023.\"\n"
   ]
  },
  {
   "cell_type": "code",
   "execution_count": 21,
   "id": "ae1c5944",
   "metadata": {},
   "outputs": [
    {
     "data": {
      "text/plain": [
       "['01.01.2023', '31.12.2023']"
      ]
     },
     "execution_count": 21,
     "metadata": {},
     "output_type": "execute_result"
    }
   ],
   "source": [
    "text = \"Start 01.01.2023, end 31.12.2023.\"\n",
    "\n",
    "\n",
    "dates = re.findall(r'\\d{2}.\\d{2}.\\d{4}', text)\n",
    "dates"
   ]
  },
  {
   "cell_type": "markdown",
   "id": "061ee587",
   "metadata": {},
   "source": [
    "\n",
    "***Exercise 7:***\n",
    "\n",
    "Extract all words that start with a capital letter from a given sentence.\n",
    "\n"
   ]
  },
  {
   "cell_type": "code",
   "execution_count": 22,
   "id": "a80dd661",
   "metadata": {},
   "outputs": [],
   "source": [
    "sentence = \"Python is Fun and Regex is Powerful, PIZZA.\"\n"
   ]
  },
  {
   "cell_type": "code",
   "execution_count": 23,
   "id": "55932355",
   "metadata": {},
   "outputs": [
    {
     "data": {
      "text/plain": [
       "['Python', 'Fun', 'Regex', 'Powerful']"
      ]
     },
     "execution_count": 23,
     "metadata": {},
     "output_type": "execute_result"
    }
   ],
   "source": [
    "sentence = \"Python is Fun and Regex is Powerful, PIZZA.\"\n",
    "\n",
    "\n",
    "capital_l = re.findall(r'\\b[A-Z][a-z]*\\b', sentence)\n",
    "capital_l"
   ]
  },
  {
   "cell_type": "markdown",
   "id": "fc9c2525",
   "metadata": {},
   "source": [
    "***Exercise 8:***\n",
    "\n",
    "Check if a password meets the following criteria: at least 8 characters, at least one uppercase letter, one lowercase letter, and one digit.\n",
    "\n"
   ]
  },
  {
   "cell_type": "code",
   "execution_count": 24,
   "id": "9d356895",
   "metadata": {},
   "outputs": [],
   "source": [
    "password = \"Passw0rd\"\n"
   ]
  },
  {
   "cell_type": "code",
   "execution_count": 25,
   "id": "80bf67ab",
   "metadata": {},
   "outputs": [
    {
     "name": "stdout",
     "output_type": "stream",
     "text": [
      "Password is sufficient\n"
     ]
    }
   ],
   "source": [
    "password = \"Passw0rd\"\n",
    "\n",
    "\n",
    "checker = bool(re.fullmatch(r'^(?=.*[A-Z])(?=.*[a-z])(?=.*\\d).{8,}$', password))\n",
    "print('Password is sufficient') if checker == 1 else print('Your Password is not strong enough. Make sure to have 8character, at least one uppercase letter, one lowercase letter, and one digit.')\n"
   ]
  },
  {
   "cell_type": "markdown",
   "id": "062fee56",
   "metadata": {},
   "source": [
    "***Exercise 9:***\n",
    "\n",
    "Extract all hashtags (words starting with '#') from a social media post.\n"
   ]
  },
  {
   "cell_type": "code",
   "execution_count": 26,
   "id": "b4ba1b2e",
   "metadata": {},
   "outputs": [],
   "source": [
    "post = \"#Python #regex #coding is fun!\"\n"
   ]
  },
  {
   "cell_type": "code",
   "execution_count": 27,
   "id": "204c1b92",
   "metadata": {},
   "outputs": [
    {
     "data": {
      "text/plain": [
       "['Python', 'regex', 'coding']"
      ]
     },
     "execution_count": 27,
     "metadata": {},
     "output_type": "execute_result"
    }
   ],
   "source": [
    "post = \"#Python #regex #coding is fun!\"\n",
    "\n",
    "\n",
    "hashtags = re.findall(r'#(\\w+)', post)\n",
    "hashtags"
   ]
  },
  {
   "cell_type": "markdown",
   "id": "25158a51",
   "metadata": {},
   "source": [
    "\n",
    "***Exercise 10:***\n",
    "\n",
    "Replace all occurrences of the word \"Python\" (case-insensitive) with \"Python Programming\" in a given text."
   ]
  },
  {
   "cell_type": "code",
   "execution_count": 28,
   "id": "bf3fef79",
   "metadata": {},
   "outputs": [],
   "source": [
    "text = \"Python is fun. python is powerful.\"\n"
   ]
  },
  {
   "cell_type": "code",
   "execution_count": 29,
   "id": "af609354",
   "metadata": {},
   "outputs": [
    {
     "data": {
      "text/plain": [
       "'Python Programming is fun. Python Programming is powerful.'"
      ]
     },
     "execution_count": 29,
     "metadata": {},
     "output_type": "execute_result"
    }
   ],
   "source": [
    "text = \"Python is fun. python is powerful.\"\n",
    "\n",
    "\n",
    "cor_text = re.sub(r'python', 'Python Programming', text, flags=re.IGNORECASE)\n",
    "cor_text"
   ]
  },
  {
   "cell_type": "markdown",
   "id": "9fbf785a",
   "metadata": {},
   "source": [
    "## LE2 - XPath/JSONPath\n",
    "\n",
    "XPath und JSONPath sind Ausdruckssprachen, mit denen gezielt Daten aus XML- bzw. JSON-Strukturen abgefragt werden koennen. In Python nutzt man XPath, um bestimmte Elemente oder Attribute innerhalb von XML-Dokumenten zu finden, waehrend JSONPath fuer den gezielten Zugriff auf Werte in komplexen JSON-Objekten verwendet wird. Beide Methoden erleichtern es, grosse oder verschachtelte Datenssaetze effizient und speichersparend nach relevanten Informationen zu durchsuchen, ohne jedes Mal die gesamte Datei laden oder manuell durchlaufen zu muessen.\n",
    "\n",
    "\n",
    "### Übungsaufgaben von Dozenten\n",
    "Exercise: Extract the name of every employee who has a salary of over 90k from the following JSON structure \n",
    "\n",
    "(using Python with the jsonpath_ng library):"
   ]
  },
  {
   "cell_type": "code",
   "execution_count": 1,
   "id": "d975c171",
   "metadata": {},
   "outputs": [
    {
     "ename": "ModuleNotFoundError",
     "evalue": "No module named 'jsonpath_ng'",
     "output_type": "error",
     "traceback": [
      "\u001b[1;31m---------------------------------------------------------------------------\u001b[0m",
      "\u001b[1;31mModuleNotFoundError\u001b[0m                       Traceback (most recent call last)",
      "Cell \u001b[1;32mIn[1], line 1\u001b[0m\n\u001b[1;32m----> 1\u001b[0m \u001b[38;5;28;01mimport\u001b[39;00m\u001b[38;5;250m \u001b[39m\u001b[38;5;21;01mjsonpath_ng\u001b[39;00m\n",
      "\u001b[1;31mModuleNotFoundError\u001b[0m: No module named 'jsonpath_ng'"
     ]
    }
   ],
   "source": [
    "import jsonpath_ng"
   ]
  },
  {
   "cell_type": "markdown",
   "id": "53a0d6b3",
   "metadata": {},
   "source": [
    "### selber erstelle Aufgaben"
   ]
  },
  {
   "cell_type": "markdown",
   "id": "d03fc64c",
   "metadata": {},
   "source": [
    "## LE3 - Web API / API Consumption"
   ]
  },
  {
   "cell_type": "markdown",
   "id": "990e215e",
   "metadata": {},
   "source": [
    "## selber erstellte Aufgaben\n",
    "\n",
    "1. What is the difference between HTTP status codes 401 and 403?\n",
    "\n",
    "2. How can you authenticate to a REST API using Bearer tokens?\n",
    "\n",
    "3. What is a RESTful API and what are its main principles?\n",
    "\n",
    "4. How do you handle authentication errors in a REST API?\n",
    "\n",
    "5. What does the HTTP 404 status code mean?\n",
    "\n",
    "6. When might a server return a 500 error for an API request?\n",
    "\n",
    "7. What is the purpose of the HTTP OPTIONS method in a REST API?\n",
    "\n",
    "8. How do you test a REST API endpoint using Python’s Requests library?\n",
    "\n",
    "9. What is the role of the .htaccess file in web server configuration?\n",
    "\n",
    "10. What are some common causes of a 403 Forbidden error in web applications?\n",
    "\n",
    "11. How do you secure a REST API to prevent unauthorized access?\n",
    "\n",
    "12. What is the difference between GET and POST methods in HTTP?\n",
    "\n",
    "13. How can you debug a 403 error when calling a REST API?\n",
    "\n",
    "14. What is the difference between REST and GraphQL?\n",
    "\n",
    "15. How do you set up authentication for a Flask-based REST API?\n",
    "\n",
    "16. What is the purpose of the Authorization header in HTTP requests?\n",
    "\n",
    "17. How do you write unit tests for a Flask REST API?\n",
    "\n",
    "18. What is the role of middleware in API security?\n",
    "\n",
    "19. How do you document a REST API using Swagger/OpenAPI?\n",
    "\n",
    "20. What are some best practices for error handling in REST APIs?"
   ]
  },
  {
   "cell_type": "markdown",
   "id": "d77157b3",
   "metadata": {},
   "source": [
    "---\n",
    "\n",
    "1. What is the difference between HTTP status codes 401 and 403?\n",
    "401 Unauthorized means the request lacks valid authentication credentials for the requested resource.\n",
    "403 Forbidden means the server understood the request but refuses to authorize it, even if the user is authenticated.\n",
    "\n",
    "2. How can you authenticate to a REST API using Bearer tokens?\n",
    "You add an Authorization header to your HTTP request with the value Bearer <token>, where <token> is your authentication token.\n",
    "\n",
    "3. What is a RESTful API and what are its main principles?\n",
    "A RESTful API (Representational State Transfer) is an architecture style for networked applications. Its main principles are:\n",
    "\n",
    "Client-Server separation\n",
    "\n",
    "Statelessness (each request contains all necessary information)\n",
    "\n",
    "Cacheability\n",
    "\n",
    "Uniform interface (resources identified in requests, manipulation through representations, self-descriptive messages, hypermedia as the engine of application state)\n",
    "\n",
    "Layered system\n",
    "\n",
    "Code on demand (optional)\n",
    "\n",
    "4. How do you handle authentication errors in a REST API?\n",
    "Return a 401 Unauthorized or 403 Forbidden status code with a clear error message in the response body.\n",
    "\n",
    "5. What does the HTTP 404 status code mean?\n",
    "404 Not Found means the requested resource could not be found on the server.\n",
    "\n",
    "6. When might a server return a 500 error for an API request?\n",
    "A 500 Internal Server Error is returned when the server encounters an unexpected condition that prevents it from fulfilling the request.\n",
    "\n",
    "7. What is the purpose of the HTTP OPTIONS method in a REST API?\n",
    "The OPTIONS method is used to describe the communication options for the target resource, such as allowed HTTP methods.\n",
    "\n",
    "8. How do you test a REST API endpoint using Python’s Requests library?\n",
    "You use the requests module to send HTTP requests and check responses, for example:\n",
    "\n",
    "python\n",
    "import requests\n",
    "response = requests.get('https://api.example.com/resource')\n",
    "print(response.status_code)\n",
    "9. What is the role of the .htaccess file in web server configuration?\n",
    "The .htaccess file is used to configure directory-level settings on Apache web servers, such as URL rewriting, authentication, and access control.\n",
    "\n",
    "10. What are some common causes of a 403 Forbidden error in web applications?\n",
    "Insufficient permissions for the authenticated user\n",
    "\n",
    "IP address blocking\n",
    "\n",
    "Directory listing disabled\n",
    "\n",
    "Access control rules in server configuration\n",
    "\n",
    "11. How do you secure a REST API to prevent unauthorized access?\n",
    "Use authentication (e.g., API keys, OAuth), authorization (e.g., role-based access), HTTPS, input validation, and rate limiting.\n",
    "\n",
    "12. What is the difference between GET and POST methods in HTTP?\n",
    "GET requests retrieve data from the server and should be idempotent.\n",
    "\n",
    "POST requests send data to the server to create or update a resource, often with side effects.\n",
    "\n",
    "13. How can you debug a 403 error when calling a REST API?\n",
    "Check authentication credentials\n",
    "\n",
    "Verify user permissions\n",
    "\n",
    "Review server logs\n",
    "\n",
    "Check for IP restrictions or firewall rules\n",
    "\n",
    "14. What is the difference between REST and GraphQL?\n",
    "REST uses predefined endpoints and standard HTTP methods.\n",
    "\n",
    "GraphQL allows clients to query exactly the data they need using a single endpoint and a flexible query language.\n",
    "\n",
    "15. How do you set up authentication for a Flask-based REST API?\n",
    "Use Flask extensions like Flask-JWT, Flask-HTTPAuth, or OAuth libraries to implement token-based or session-based authentication.\n",
    "\n",
    "16. What is the purpose of the Authorization header in HTTP requests?\n",
    "The Authorization header is used to send credentials (such as tokens or basic auth) to authenticate the client to the server.\n",
    "\n",
    "17. How do you write unit tests for a Flask REST API?\n",
    "Use testing frameworks like pytest with Flask’s test client to simulate HTTP requests and check responses, for example:\n",
    "\n",
    "python\n",
    "def test_api_endpoint(client):\n",
    "    response = client.get('/api/resource')\n",
    "    assert response.status_code == 200\n",
    "18. What is the role of middleware in API security?\n",
    "Middleware processes requests before they reach the main application logic, enabling tasks like authentication, logging, and input validation.\n",
    "\n",
    "19. How do you document a REST API using Swagger/OpenAPI?\n",
    "You write an OpenAPI specification (YAML or JSON file) describing endpoints, methods, parameters, and responses, then use tools like Swagger UI for interactive documentation.\n",
    "\n",
    "20. What are some best practices for error handling in REST APIs?\n",
    "Return appropriate HTTP status codes\n",
    "\n",
    "Provide clear, consistent error messages\n",
    "\n",
    "Include error details in the response body\n",
    "\n",
    "Log errors for debugging\n",
    "\n",
    "Use standard error formats\n",
    "\n",
    "Let me know if you want any answer expanded or explained in more detail!"
   ]
  }
 ],
 "metadata": {
  "kernelspec": {
   "display_name": "Python 3",
   "language": "python",
   "name": "python3"
  },
  "language_info": {
   "codemirror_mode": {
    "name": "ipython",
    "version": 3
   },
   "file_extension": ".py",
   "mimetype": "text/x-python",
   "name": "python",
   "nbconvert_exporter": "python",
   "pygments_lexer": "ipython3",
   "version": "3.13.1"
  }
 },
 "nbformat": 4,
 "nbformat_minor": 5
}
